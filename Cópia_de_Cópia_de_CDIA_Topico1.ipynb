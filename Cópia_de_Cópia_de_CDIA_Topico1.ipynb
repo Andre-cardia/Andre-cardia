{
  "nbformat": 4,
  "nbformat_minor": 0,
  "metadata": {
    "colab": {
      "provenance": [],
      "collapsed_sections": [
        "l9JIPBTBxANX",
        "Dc6EFj8W7R1q"
      ],
      "include_colab_link": true
    },
    "kernelspec": {
      "name": "python3",
      "display_name": "Python 3"
    },
    "language_info": {
      "name": "python"
    }
  },
  "cells": [
    {
      "cell_type": "markdown",
      "metadata": {
        "id": "view-in-github",
        "colab_type": "text"
      },
      "source": [
        "<a href=\"https://colab.research.google.com/github/Andre-cardia/Andre-cardia/blob/main/C%C3%B3pia_de_C%C3%B3pia_de_CDIA_Topico1.ipynb\" target=\"_parent\"><img src=\"https://colab.research.google.com/assets/colab-badge.svg\" alt=\"Open In Colab\"/></a>"
      ]
    },
    {
      "cell_type": "markdown",
      "source": [
        "![unisenai.png](data:image/png;base64,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)\n",
        "<h1> Pós-Graduação em Ciência de Dados e Inteligência Artificial </h1>\n",
        "\n",
        "<h1>Unidade Curricular: Programação em Python para Ciência de Dados</h1>\n",
        "<h1>Professor: Willian Daniel de Mattos, Me.</h1>\n",
        "\n",
        "\n",
        "\n",
        "<h1><b>Tópico 1 - Conceitos Fundamentais</b></h1>\n",
        "\n",
        "Este tópico abordará os conceitos fundamentais em Python para que você possa utilizar esta linguagem para o desenvolvimento de algoritmos na área  ciência de dados e inteligência artificial. Por mais que os conceitos sejam simplificados, eles serão fundamentais para a implementação de algoritmos mais complexos. Os seguintes sub-tópicos serão abordados a seguir:\n",
        "\n",
        "1.1 Conceito de Variáveis, Tipos Primitivos e Operadores Aritméticos\n",
        "\n",
        "1.2 Operadores Relacionais, Operadores Lógicos e Estruturas Condicionais\n",
        "\n",
        "1.3 Estruturas de Repetição\n",
        "\n",
        "1.4 Funções\n",
        "\n",
        "1.5 Exceções\n",
        "\n",
        "1.6 Exercícios de Fixação\n",
        "\n",
        "\n",
        "\n"
      ],
      "metadata": {
        "id": "uRXstRsow9gQ"
      }
    },
    {
      "cell_type": "markdown",
      "source": [
        "#1.1 Conceito de Variáveis, Tipos Primitivos e Operadores Aritméticos"
      ],
      "metadata": {
        "id": "MGwUAv3gwfLh"
      }
    },
    {
      "cell_type": "markdown",
      "source": [
        "<h1> Variáveis </h1>\n",
        "\n",
        "**Variáveis** são locais da memória cujo conteúdo pode variar ou diferir ao longo do tempo.\n",
        "\n",
        "Em geral, um variável tem um tipo, um tamanho e um valor (conteúdo).\n",
        "\n",
        "Toda linguagem de programação tem suas próprias regras para nomes de variáveis, tais como:\n",
        "\n",
        "*  Caracteres permitidos\n",
        "*  Extensão máxima\n",
        "*  Uso de maiúsculas e minúsculas\n",
        "\n",
        "O nome de uma **variável** deve ser, uma palavra única, mas pode ser formada por várias palavras: Ex.: valor, valorItem, valor_de_entrada."
      ],
      "metadata": {
        "id": "zR2B31_RnIeV"
      }
    },
    {
      "cell_type": "markdown",
      "source": [
        "Algumas regras e boas práticas na definição do nome das variáveis:\n",
        "\n",
        "*   **Nomes das variáveis precisam ser uma palavra**: O nome pode conter letras, dígitos, hifens, traços inferiores ou outros\n",
        "caracteres com exceção de espaços.\n",
        "*   **Nomes de variáveis devem ter algum significado apropriado**: Isso torna o código mais compreensível e profissional\n",
        "*   Nomes de variáveis **não podem começar com valores numéricos**.\n",
        "Além disso, não pode conter palavras reservadas (ex.: *if*, *end*, *break*, etc)."
      ],
      "metadata": {
        "id": "aF7V5Xbn7FiL"
      }
    },
    {
      "cell_type": "markdown",
      "source": [
        "**Tipos Primitivos**: Os tipos **primitivos** no Python são os tipos básicos de dados incorporados à linguagem. Eles são usados para representar valores simples, como números inteiros, números de ponto flutuante, strings e valores booleanos. Segue abaixo uma listagem dos tipos de dados primitivos incorporados ao Python:\n",
        "\n",
        "**Inteiro** (`int`): Números inteiros positivos ou negativos sem casas decimais.\n",
        "\n",
        "**Ponto flutuante** (`float`): Números reais com casas decimais.\n",
        "\n",
        "**String** (`str`): Uma sequências de caracteres.\n",
        "\n",
        "**Booleano** (`bool`): Representa valores lógicos verdadeiro (`True`) ou falso (`False`)."
      ],
      "metadata": {
        "id": "uMc-Pd7f7_2V"
      }
    },
    {
      "cell_type": "markdown",
      "source": [
        "Os exemplos a seguir utilizam variáveis do tipo `int` e `str` para o cálculo e a exibição do saldo de gols de uma partida de futebol:"
      ],
      "metadata": {
        "id": "5oDXWEDQQSd1"
      }
    },
    {
      "cell_type": "code",
      "source": [
        "# Exemplo 1 - Saldo de Gols\n",
        "# O exemplo abaixo realiza as seguintes operações:\n",
        "# 1) Atribui valores numéricos inteiros às variáveis: golsMarcados e golSofridos\n",
        "# 2) Calcula o saldo de Gols do Time\n",
        "# 3) Exibe o resultado na tela\n",
        "# 4) Exibe o tipo de dado da variável saldo\n",
        "\n",
        "golsMarcados = 3\n",
        "golsSofridos = 1\n",
        "saldo = golsMarcados - golsSofridos # calcula diferença de gols\n",
        "print(\"Saldo de gols:\", saldo) #exibe saldo na tela\n",
        "print(type(saldo)) # Exibe o tipo da variável saldo"
      ],
      "metadata": {
        "id": "uG1itECPnZfl",
        "colab": {
          "base_uri": "https://localhost:8080/"
        },
        "outputId": "3c45287f-b9d1-414e-8294-85aa96d12d91"
      },
      "execution_count": null,
      "outputs": [
        {
          "output_type": "stream",
          "name": "stdout",
          "text": [
            "Saldo de gols: 2\n",
            "<class 'int'>\n"
          ]
        }
      ]
    },
    {
      "cell_type": "markdown",
      "source": [
        "O exemplo a seguir solicita o usuário a quantidade de gols marcados e sofridos.\n",
        "Contudo, como neste caso é utilizada a função `input()` para entrada de dados e esta função sempre retorna valores do tipo `string` é necessário converter os valores obtidos para inteiros para realização do cálculo do saldo de gols.\n"
      ],
      "metadata": {
        "id": "7XRDk9JeVcdi"
      }
    },
    {
      "cell_type": "code",
      "source": [
        "# Exemplo 2 - Saldo de Gols (versão 2)\n",
        "# Perceba que diferentemente do exemplo anterior, este exemplo realiza as seguintes operações:\n",
        "\n",
        "# 1) Obtêm do usuário a quantidade de golsMarcados e golsSofridos e converte para os valores para inteiros\n",
        "# 2) Calcula o saldo de Gols\n",
        "# 3) Exibe o resultado na tela (convertendo o saldo para String)\n",
        "# 4) Exibe o tipo de dado da variável saida\n",
        "\n",
        "golsMarcados = int(input(\"Digite a quantidade de gols marcados:\")) #Obtem do usuário a quantidade de gols marcados\n",
        "golsSofridos = int(input(\"Digite a quantidade de gols sofridos:\")) #Obtem do usuário a quantidade de gols sofridos\n",
        "\n",
        "saldo = golsMarcados - golsSofridos\n",
        "saida = str(saldo)\n",
        "\n",
        "print(\"Saldo de Gols:\" + saida) #Perceba também que neste caso está sendo utilizada a concatenação de strings de saída com o uso da adição\n",
        "                                #Neste caso, foi necessário converter a saída de int para string por meio da linha anterior antes da concatenação de variáveis\n",
        "\n",
        "print(type(saida))"
      ],
      "metadata": {
        "id": "bJ-IZL95oJqV",
        "outputId": "4b8ffb8a-c7f2-458e-b24b-72df20d2cdd8",
        "colab": {
          "base_uri": "https://localhost:8080/"
        }
      },
      "execution_count": null,
      "outputs": [
        {
          "output_type": "stream",
          "name": "stdout",
          "text": [
            "Digite a quantidade de gols marcados:10\n",
            "Digite a quantidade de gols sofridos:7\n",
            "Saldo de Gols: 3\n",
            "<class 'str'>\n"
          ]
        }
      ]
    },
    {
      "cell_type": "markdown",
      "source": [
        "<h1> Operações Aritméticas </h1>\n",
        "\n",
        "Os operadores são símbolos especiais utilizados para realizar operações matemáticas, como adição, subtração, multiplicação, divisão e exponenciação. Os valores nos quais os operadores são aplicados são chamados de operandos.\n",
        "\n",
        "Aqui estão exemplos de uso dos operadores mencionados:\n",
        "\n",
        "- Adição (+): realiza a soma entre dois valores. Exemplo: 2 + 3 resulta em 5.\n",
        "- Subtração (-): realiza a subtração entre dois valores. Exemplo: 5 - 3 resulta em 2.\n",
        "- Multiplicação (*): realiza a multiplicação entre dois valores. Exemplo: 2 * 3 resulta em 6.\n",
        "- Divisão (/): realiza a divisão entre dois valores. Exemplo: 6 / 2 resulta em 3.\n",
        "- Exponenciação (**): eleva um valor à potência de outro. Exemplo: 2 ** 3 resulta em 8.\n",
        "\n",
        "Esses operadores são fundamentais para realizar cálculos e manipulações numéricas em Python.\n",
        "\n",
        "O operador de módulo em Python, representado pelo símbolo de porcentagem (%), é usado para calcular o resto de uma divisão entre dois números inteiros. A sintaxe básica é a mesma dos outros operadores aritméticos.\n",
        "\n",
        "Por exemplo, considerando o código:"
      ],
      "metadata": {
        "id": "Cifn0VkN_rBy"
      }
    },
    {
      "cell_type": "code",
      "source": [
        "quociente = 7 // 3\n",
        "print(quociente)\n",
        "resto = 7 % 3\n",
        "print(resto)"
      ],
      "metadata": {
        "id": "IB4SBSq3MuJy",
        "outputId": "d87bc11a-9de6-4c9a-ef61-fcb04d66d641",
        "colab": {
          "base_uri": "https://localhost:8080/"
        }
      },
      "execution_count": null,
      "outputs": [
        {
          "output_type": "stream",
          "name": "stdout",
          "text": [
            "2\n",
            "1\n"
          ]
        }
      ]
    },
    {
      "cell_type": "markdown",
      "source": [
        "Isso ocorre porque a divisão inteira de 7 por 3 resulta em 2, e o operador de módulo retorna o resto da divisão, que é 1.\n",
        "\n",
        "O operador de módulo pode ser surpreendentemente útil em diversas situações. Por exemplo, você pode verificar se um número é divisível por outro: se o resultado de x % y for igual a zero, então x é divisível por y.\n",
        "\n",
        "Essas propriedades do operador de módulo podem ser úteis em várias tarefas de programação, como verificação de divisibilidade e manipulação de dígitos em um número."
      ],
      "metadata": {
        "id": "AgoIk4LjChPQ"
      }
    },
    {
      "cell_type": "markdown",
      "source": [
        "Os **exemplos 3, 4 e 5** a seguir realizam operações matemáticas considerando alguns dos operadores aritméticos vistos acima:"
      ],
      "metadata": {
        "id": "itXuK8KaCx6D"
      }
    },
    {
      "cell_type": "code",
      "source": [
        "#Exemplo 3 - Operações Matemáticas\n",
        "# Este exemplo realiza as seguintes operações:\n",
        " # 1) Calcula a média de gols em 3 jogos e exibe a informação na tela\n",
        " # 2) Exibe o resultado na tela (formatado para duas casas decimais)\n",
        " # 3) Exibe o tipo de dado da variável media\n",
        "golsJogo1 = 2\n",
        "golsJogo2 = 4\n",
        "golsJogo3 = 5\n",
        "\n",
        "media = (golsJogo1 + golsJogo2 + golsJogo3) /3 #Calcula média simples\n",
        "\n",
        "\n",
        "print(f\"Média de Gols por Jogo: {media:.2f}\") #Formata para valor duas casas decimais\n",
        "print(type(media))  #Exibe tipo da variável media"
      ],
      "metadata": {
        "id": "duDBNZkeohLE",
        "outputId": "00659299-abcc-4b9d-f52e-9f8583ed0e1b",
        "colab": {
          "base_uri": "https://localhost:8080/"
        }
      },
      "execution_count": null,
      "outputs": [
        {
          "output_type": "stream",
          "name": "stdout",
          "text": [
            "Média de Gols por Jogo: 3.67\n",
            "<class 'float'>\n"
          ]
        }
      ]
    },
    {
      "cell_type": "markdown",
      "source": [
        "O exemplo a seguir calcula a área de uma bola (em cm²) com base no valor informado pelo usuário e utilizando a operação de exponenciação (**):"
      ],
      "metadata": {
        "id": "f_8Y-oTNXLw9"
      }
    },
    {
      "cell_type": "code",
      "source": [
        "#Exemplo 4 - Cálculo da Área\n",
        "raioBola = 11 #raio e cm\n",
        "PI = 3.14\n",
        "\n",
        "areaBola = PI * (raioBola**2)\n",
        "print('Área da Bola em cm²:', areaBola)"
      ],
      "metadata": {
        "id": "yy3NkKJcsxMV"
      },
      "execution_count": null,
      "outputs": []
    },
    {
      "cell_type": "markdown",
      "source": [
        "O exemplo a seguir apresenta exemplos da utilização da variável do tipo string e utiliza a função `len()` para contar a quantidade de caracteres da variável:"
      ],
      "metadata": {
        "id": "jcfZjL_0Xd2r"
      }
    },
    {
      "cell_type": "code",
      "source": [
        "#Exemplo 5 - Variáveis do Tipo String\n",
        "\n",
        "#Perceba que os delimitadores ' (aspas simples) e \" (aspas duplas)\n",
        "# são equivalentes (e aceitáveis) na definição de valores do tipo string no Python\n",
        "selecao1 = 'Brasil'\n",
        "selecao2 = \"Espanha\"\n",
        "\n",
        "print(type(selecao1)) #Exibe tipo da variável selecao1\n",
        "print(type(selecao2)) #Exibe tipo da variável selecao2\n",
        "print(len(selecao1))"
      ],
      "metadata": {
        "id": "_ENTbucNp5dW",
        "outputId": "7a46b568-a194-4e71-f804-44037dd03884",
        "colab": {
          "base_uri": "https://localhost:8080/"
        }
      },
      "execution_count": null,
      "outputs": [
        {
          "output_type": "stream",
          "name": "stdout",
          "text": [
            "<class 'str'>\n",
            "<class 'str'>\n",
            "6\n"
          ]
        }
      ]
    },
    {
      "cell_type": "markdown",
      "source": [
        "# 1.2 Operadores Relacionais, Operadores Lógicos e Estruturas Condicionais"
      ],
      "metadata": {
        "id": "tKQHhRhQxjnA"
      }
    },
    {
      "cell_type": "markdown",
      "source": [
        "<h1> Operadores Relacionais </h1>\n",
        "\n",
        "Para realizar **comparações lógicas**, as linguagens de programação utilizam **operadores relacionais**. A tabela abaixo apresenta os operadores relacionais suportados em Python com sua respectiva descrição e um exemplo de comparação ***(considere que a variável idade é igual a 20).***"
      ],
      "metadata": {
        "id": "mtaEiD78FVni"
      }
    },
    {
      "cell_type": "markdown",
      "source": [
        "![image.png](data:image/png;base64,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)"
      ],
      "metadata": {
        "id": "AdzmUXYqEbaY"
      }
    },
    {
      "cell_type": "markdown",
      "source": [
        "O exemplo a seguir utiliza diferente operadores relacionais para comparar a quantidade de gols marcados por cada time:"
      ],
      "metadata": {
        "id": "uw42x00uSG2c"
      }
    },
    {
      "cell_type": "code",
      "source": [
        "#Exemplo 6 - Compara Gols\n",
        "# O exemplo abaixo realiza as seguintes operações:\n",
        "# - Atribui valores inteiros para as variáveis golsBrasil e golsEspanha\n",
        "# Compara os gols realizados pelas seleções do brasil e espanha e exibe o resultado das comparações na tela.\n",
        "\n",
        "golsBrasil = 3\n",
        "golsEspanha = 2\n",
        "print(golsBrasil == golsEspanha) #Verifica se as quantidades são iguais\n",
        "print(golsBrasil > golsEspanha) #Operador maior (>)\n",
        "print(golsBrasil >= golsEspanha) #Operador maior ou igual (>)\n",
        "print(golsBrasil <= golsEspanha) #Operador menor ou igual (>)\n",
        "print(golsBrasil < golsEspanha) #Operador menor (<)\n",
        "print(golsBrasil != golsEspanha) #Operador diferente ou não igual (!=)"
      ],
      "metadata": {
        "id": "C3leBh60xrTV",
        "outputId": "e0228c90-2a20-4445-f182-65c91973465f",
        "colab": {
          "base_uri": "https://localhost:8080/"
        }
      },
      "execution_count": null,
      "outputs": [
        {
          "output_type": "stream",
          "name": "stdout",
          "text": [
            "False\n",
            "True\n",
            "True\n",
            "False\n",
            "False\n",
            "True\n"
          ]
        }
      ]
    },
    {
      "cell_type": "markdown",
      "source": [
        "<h1> Estruturas Condicionais </h1>\n",
        "\n",
        "As estruturas condicionais são usadas para verificar condições e alterar o comportamento de um programa com base nessas condições.\n",
        "\n",
        "A forma mais simples de estrutura condicional utiliza a declaração `if`\n",
        "\n",
        "A expressão booleana após a declaração `if` é chamada de condição. A declaração é finalizada com dois pontos `:` e as linhas subsequentes são indentadas. Se a condição for verdadeira, o bloco de código indentado é executado. Se a condição for falsa, o bloco de código indentado é ignorado.\n",
        "\n",
        "As declarações `if` são chamadas de declarações compostas, pois podem se estender por várias linhas. Pode haver qualquer número de linhas dentro do bloco, mas é necessário ter pelo menos uma. Às vezes, é útil deixar um bloco vazio (geralmente para reservar espaço para código que ainda não foi escrito).\n",
        "\n",
        "O exemplo a seguir demonstra a sintaxe para verificar se o valor armazenado na variável `x` é positivo:"
      ],
      "metadata": {
        "id": "uOKdEVNQGA3B"
      }
    },
    {
      "cell_type": "code",
      "source": [
        "x = 10\n",
        "if x > 0:\n",
        "    print('x é positivo')"
      ],
      "metadata": {
        "id": "jIRuasOwHFyU"
      },
      "execution_count": null,
      "outputs": []
    },
    {
      "cell_type": "markdown",
      "source": [
        "A execução alternativa (utilizando `else`) é outra forma da declaração `if` em que existem duas possibilidades e a condição determina qual delas será executada. A sintaxe é a seguinte:"
      ],
      "metadata": {
        "id": "285Y2GFvIFns"
      }
    },
    {
      "cell_type": "code",
      "source": [
        "x = 10\n",
        "if x % 2 == 0:\n",
        "    print('x é par')\n",
        "else:\n",
        "    print('x é ímpar')"
      ],
      "metadata": {
        "id": "hHp5hPtLIQv6"
      },
      "execution_count": null,
      "outputs": []
    },
    {
      "cell_type": "markdown",
      "source": [
        "Nesse exemplo, se o resto da divisão de `x` por 2 for igual a 0, sabemos que `x` é par, e o programa imprimirá a mensagem \"x é par\".\n",
        "\n",
        "Caso a condição seja falsa, ou seja, o resto da divisão de `x` por 2 seja igual a 0, o segundo conjunto de instruções, após o `else`, será executado e o programa imprimirá a mensagem \"x é ímpar\".\n",
        "\n",
        "Essa forma de declaração `if-else` nos permite direcionar o fluxo do programa com base em condições específicas. Se a condição do `if` for verdadeira, o bloco de código após o `if` será executado; caso contrário, o bloco de código após o `else` será executado. Isso nos dá a capacidade de escolher entre duas opções alternativas dependendo da condição avaliada."
      ],
      "metadata": {
        "id": "5dDez_5IIWv7"
      }
    },
    {
      "cell_type": "markdown",
      "source": [
        "O exemplo 7 a seguir utiliza a estrutura condicional `if-else` para comparar a quantidade de gols e definir o vencedor."
      ],
      "metadata": {
        "id": "fEkhliJ9IdTE"
      }
    },
    {
      "cell_type": "code",
      "source": [
        "#Exemplo 7 - Estruturas Condicionais (IF-ELSE)\n",
        "\n",
        "golsBrasil = int(input(\"Digite a quantidade de gols do Brasil:\"))\n",
        "golsEspanha = int(input(\"Digite a quantidade de gols da Espanha:\"))\n",
        "\n",
        "if golsBrasil > golsEspanha:\n",
        "  resultado = 'Brasil'\n",
        "else:\n",
        "  resultado = 'Espanha'\n",
        "\n",
        "#Veja que neste caso o programa não está calculando corretamente a situação de empate\n",
        "print('Vencedor do Jogo:\\n', resultado)"
      ],
      "metadata": {
        "id": "3jnJdatczHau",
        "outputId": "c79d0c3b-3cca-4bdd-9f56-cec33817c246",
        "colab": {
          "base_uri": "https://localhost:8080/"
        }
      },
      "execution_count": null,
      "outputs": [
        {
          "output_type": "stream",
          "name": "stdout",
          "text": [
            "Digite a quantidade de gols do Brasil:4\n",
            "Digite a quantidade de gols da Espanha:3\n",
            "Vencedor do Jogo:\n",
            " Brasil\n"
          ]
        }
      ]
    },
    {
      "cell_type": "markdown",
      "source": [
        " Perceba que o código anterior contém um erro de lógica (pois não considera corretamente a situação de empate!). No caso de resultados iguais na quantidade de gols, a Espanha sempre será considerada vencedora."
      ],
      "metadata": {
        "id": "jJ-paEyWI6SL"
      }
    },
    {
      "cell_type": "markdown",
      "source": [
        "Portanto, para considerar situação de empate, podemos reescrever o código da seguinte maneira:"
      ],
      "metadata": {
        "id": "Qvkc5-B7JvGj"
      }
    },
    {
      "cell_type": "code",
      "source": [
        "#Exemplo 8 - Estruturas Condicionais (if-else aninhados)\n",
        "\n",
        "golsBrasil = int(input(\"Digite a quantidade de gols do Brasil:\"))\n",
        "golsEspanha = int(input(\"Digite a quantidade de gols da Espanha:\"))\n",
        "\n",
        "if golsBrasil > golsEspanha:\n",
        "  resultado = 'Brasil'\n",
        "else:\n",
        "  if golsEspanha > golsBrasil:\n",
        "    resultado = 'Espanha'\n",
        "  else:\n",
        "    resultado = 'Empate'\n",
        "\n",
        "print('Vencedor do Jogo:\\n', resultado)"
      ],
      "metadata": {
        "id": "0WZsi-0_0GdE"
      },
      "execution_count": null,
      "outputs": []
    },
    {
      "cell_type": "markdown",
      "source": [
        "Perceba que no exemplo 6 temos a estrutura condicional aninhada.\n",
        "A primeira condição verifica se a quantidade de gols do Brasil é maior que a da Espanha. Se essa condição for verdadeira, a variável resultado recebe o valor 'Brasil'.\n",
        "\n",
        "Caso a primeira condição seja falsa, o programa entra no segundo nível de condicional aninhada, que verifica se a quantidade de gols da Espanha é maior que a do Brasil. Se essa condição for verdadeira, a variável resultado recebe o valor 'Espanha'.\n",
        "\n",
        "Por fim, se nenhuma das condições anteriores for verdadeira, significa que a quantidade de gols do Brasil e da Espanha é igual, resultando em um empate. A variável resultado recebe o valor 'Empate'.\n",
        "\n",
        "Por fim, o programa exibe na tela o valor armazenado na variável resultado."
      ],
      "metadata": {
        "id": "kOO5TTSoKpAY"
      }
    },
    {
      "cell_type": "markdown",
      "source": [
        "<h1> Condições Encadeadas </h1>\n",
        "\n",
        "A lógica computacional pode apresentar mais de duas possibilidades, exigindo várias ramificações.\n",
        "\n",
        "Para expressar essa lógica, utiliza-se a declaração `elif`, que é uma abreviação de `else if`.\n",
        "\n",
        "Essa declaração permite verificar várias condições em sequência, sendo executada apenas a primeira ramificação cuja condição seja verdadeira.\n",
        "\n",
        "Não há limite para o número de declarações `elif`, e uma cláusula `else` é opcional. Cada condição é verificada em ordem, e a execução termina na primeira ramificação verdadeira.\n",
        "\n",
        "O exemplo a seguir apresenta o mesmo resultado lógico do exemplo 9, mas utilizando condições encadeadas por meio da declaração `elif`:"
      ],
      "metadata": {
        "id": "JjozR4kZWbYE"
      }
    },
    {
      "cell_type": "code",
      "source": [
        "#Exemplo 9 - Estruturas Condicionais (if-elif encadeados )\n",
        "\n",
        "golsBrasil = int(input(\"Digite a quantidade de gols do Brasil:\"))\n",
        "golsEspanha = int(input(\"Digite a quantidade de gols da Espanha:\"))\n",
        "\n",
        "if golsBrasil > golsEspanha:\n",
        "  resultado = 'Brasil'\n",
        "elif golsEspanha > golsBrasil:\n",
        "    resultado = 'Espanha'\n",
        "else:\n",
        "    resultado = 'Empate'\n",
        "\n",
        "print('Vencedor do Jogo:\\n', resultado)"
      ],
      "metadata": {
        "id": "ct7NwBD0W_Do"
      },
      "execution_count": null,
      "outputs": []
    },
    {
      "cell_type": "markdown",
      "source": [
        "<h1> Operadores Lógicos </h1>\n",
        "\n",
        "Os operadores lógicos em Python são usados para realizar operações de lógica booleana. Existem três operadores lógicos: `and`, `or`, e `not` serão detalhados a seguir:\n",
        "\n",
        "Operador `and` (E): Retorna True se ambas as expressões booleanas forem verdadeiras. Por exemplo, `x > 20 and x < 50` é verdadeiro se o valor de x for maior que 20 e menor que 50.\n",
        "\n",
        "Operador `or` (Ou): Retorna True se pelo menos uma das expressões booleanas for verdadeira. Por exemplo, `n%2 == 0 or n%3 == 0` é verdadeiro se o número n for divisível por 2 ou por 3.\n",
        "\n",
        "Operador `not` (Negação): Inverte o valor de uma expressão booleana. Se a expressão for verdadeira, o resultado será False. Se a expressão for falsa, o resultado será True. Por exemplo, `not (x > y)` é verdadeiro se a expressão x > y for falsa, ou seja, se x for menor ou igual a y.\n",
        "\n",
        "Embora os operadores lógicos sejam normalmente usados com expressões booleanas, o Python é flexível e permite que outros valores sejam interpretados como \"verdadeiro\" ou \"falso\". Qualquer número diferente de zero é interpretado como \"verdadeiro\", enquanto zero é interpretado como \"falso\"."
      ],
      "metadata": {
        "id": "XDitNcf1L50Y"
      }
    },
    {
      "cell_type": "markdown",
      "source": [
        "Os exemplos a seguir apresentam estruturas condicionais com condições que utilizam os operadores lógicos `and` e `or` e `not`."
      ],
      "metadata": {
        "id": "r27KLosbMyS3"
      }
    },
    {
      "cell_type": "code",
      "source": [
        "#Exemplo 10 - Estruturas Condicionais (if-else com and)\n",
        "\n",
        "golsBrasil = int(input(\"Digite a quantidade de gols do Brasil:\"))\n",
        "\n",
        "if golsBrasil >=0 and golsBrasil <=20: #verifica se ambas as condições são verdadeiras por meio do operador and\n",
        "  print('Valor Válido!')\n",
        "else:\n",
        "  print('Valor Inválido!')"
      ],
      "metadata": {
        "id": "pvW3S-yx06BQ"
      },
      "execution_count": null,
      "outputs": []
    },
    {
      "cell_type": "code",
      "source": [
        "#Exemplo 11 - Estruturas Condicionais (if-else com or)\n",
        "\n",
        "golsBrasil = int(input(\"Digite a quantidade de gols do Brasil:\"))\n",
        "\n",
        "if golsBrasil <0 or golsBrasil >20: #Verifica de uma das condiççoes é verdadeira por meio do operador or\n",
        "  print('Valor Inválido!')\n",
        "else:\n",
        "  print('Valor Válido!')"
      ],
      "metadata": {
        "id": "iXBUgt-a1qP9"
      },
      "execution_count": null,
      "outputs": []
    },
    {
      "cell_type": "code",
      "source": [
        "#Exemplo 12 - Estruturas Condicionais (if-else com and e not)\n",
        "\n",
        "golsBrasil = int(input(\"Digite a quantidade de gols do Brasil:\"))\n",
        "\n",
        "if not (golsBrasil >=0 and golsBrasil <=20)==True:\n",
        "  print('Valor Inválido!')\n",
        "else:\n",
        "  print('Valor Válido!')"
      ],
      "metadata": {
        "id": "C9U5NflcYO8H"
      },
      "execution_count": null,
      "outputs": []
    },
    {
      "cell_type": "markdown",
      "source": [
        "# 1.3 Estruturas de Repetição"
      ],
      "metadata": {
        "id": "ju55u4Bf2Bzg"
      }
    },
    {
      "cell_type": "markdown",
      "source": [
        "<h1> Declaração 'while' </h1>\n",
        "\n",
        "Computadores são frequentemente utilizados para automatizar tarefas repetitivas, pois são capazes de executá-las de forma precisa e sem erros.\n",
        "\n",
        "A linguagem de programação Python oferece recursos que facilitam a implementação dessas tarefas repetitivas.\n",
        "\n",
        "Uma forma de realizar iterações em Python é usando a declaração `while`. A seguir, temos um exemplo simples de um programa que faz uma contagem regressiva a partir do número 10 e, em seguida, exibe a frase \"Feliz ano novo!\":"
      ],
      "metadata": {
        "id": "BH00EAAZOW8u"
      }
    },
    {
      "cell_type": "code",
      "source": [
        "from time import sleep\n",
        "n = 10\n",
        "while n > 0:\n",
        "    sleep(0.5)\n",
        "    print(f'{n} - ',end='')\n",
        "    n = n - 1\n",
        "print('Feliz ano novo!')"
      ],
      "metadata": {
        "id": "EvpMhyCYOfXA",
        "outputId": "f6f3e6c0-fb2e-419b-e435-bebbcffb494d",
        "colab": {
          "base_uri": "https://localhost:8080/"
        }
      },
      "execution_count": null,
      "outputs": [
        {
          "output_type": "stream",
          "name": "stdout",
          "text": [
            "10 - 9 - 8 - 7 - 6 - 5 - 4 - 3 - 2 - 1 - Feliz ano novo!\n"
          ]
        }
      ]
    },
    {
      "cell_type": "markdown",
      "source": [
        "A declaração `while` pode ser lida de forma semelhante a um texto em português.\n",
        "\n",
        "Em português, seria algo como: \"Enquanto o valor de `n` for maior que 0, exiba o valor de `n` e, em seguida, diminua 1 desse valor.\n",
        "\n",
        "Quando atingir o valor 0, saia da declaração `while` e exiba a frase 'Feliz ano novo!'\".\n",
        "\n",
        "De forma mais formal, o fluxo de execução da declaração `while` seria:\n",
        "\n",
        "1. Avalie a condição e retorne um valor `True` ou `False`.\n",
        "2. Se a condição for falsa, saia da declaração `while` e prossiga com as próximas instruções.\n",
        "3. Se a condição for verdadeira, execute o bloco de código do `while` e retorne ao passo 1.\n",
        "\n",
        "Este bloco de código é chamado de `laço` porque o terceiro passo faz com que o programa retorne ao primeiro.\n",
        "\n",
        "Cada vez que as instruções dentro do laço são executadas, chamamos de **iteração**.\n",
        "\n",
        "No programa anterior, podemos dizer que ele teve dez iterações, ou seja, o corpo do laço foi executado dez vezes.\n",
        "\n",
        "Normalmente, o corpo do laço deve alterar o valor de uma ou mais variáveis para que, em algum momento, a condição se torne falsa e a repetição seja encerrada.\n",
        "\n",
        "Chamamos a variável que é alterada a cada iteração e controla o término do laço de **variável de iteração** (ou variável de controle). Se não houver uma variável de iteração, o loop continuará infinitamente, resultando em um **loop infinito**."
      ],
      "metadata": {
        "id": "W-pkGtMYOi51"
      }
    },
    {
      "cell_type": "markdown",
      "source": [
        "O exemplo a seguir gera a escalação dos 11 jogadores de uma seleção de futebol utilizando a estrutura de repetição `while`:"
      ],
      "metadata": {
        "id": "kzXAcY7WbWsS"
      }
    },
    {
      "cell_type": "code",
      "source": [
        "#Exemplo 13 - Gera Jogadores (while)\n",
        "\n",
        "contador = 0\n",
        "\n",
        "while contador <=11:\n",
        "  contador = contador + 1\n",
        "  print('Jogador', contador)"
      ],
      "metadata": {
        "id": "An2tjADJ2IH-",
        "outputId": "d954132c-a2bb-41cb-8e1f-e0863068ff4d",
        "colab": {
          "base_uri": "https://localhost:8080/"
        }
      },
      "execution_count": null,
      "outputs": [
        {
          "output_type": "stream",
          "name": "stdout",
          "text": [
            "Jogador 1\n",
            "Jogador 2\n",
            "Jogador 3\n",
            "Jogador 4\n",
            "Jogador 5\n",
            "Jogador 6\n",
            "Jogador 7\n",
            "Jogador 8\n",
            "Jogador 9\n",
            "Jogador 10\n",
            "Jogador 11\n",
            "Jogador 12\n"
          ]
        }
      ]
    },
    {
      "cell_type": "markdown",
      "source": [
        "O exemplo a seguir utiliza duas estruturas de repetição `while` aninhadas de forma a gerar partidas entre 4 seleções de futebol:"
      ],
      "metadata": {
        "id": "XqB5AYQVdAG2"
      }
    },
    {
      "cell_type": "code",
      "source": [
        "#Exemplo 14 - Gera Partidas (While Aninhados)\n",
        "partida = 1\n",
        "contador1 = 1\n",
        "contador2 = 4\n",
        "\n",
        "while contador1 <=4:\n",
        "  while contador2>=1:\n",
        "    print('Partida ' + str(partida) + \":\\t\"+\n",
        "          \"Seleção \" + str(contador1) + \" X \"\n",
        "          \"Seleção \" + str(contador2))\n",
        "    partida +=1\n",
        "    contador2-=1\n",
        "    contador1+=1\n"
      ],
      "metadata": {
        "id": "ZTB3LZYB3MvV",
        "outputId": "0b9be8cd-e4cc-48d6-980b-99c904387119",
        "colab": {
          "base_uri": "https://localhost:8080/"
        }
      },
      "execution_count": null,
      "outputs": [
        {
          "output_type": "stream",
          "name": "stdout",
          "text": [
            "Partida 1:\tSeleção 1 X Seleção 4\n",
            "Partida 2:\tSeleção 2 X Seleção 3\n",
            "Partida 3:\tSeleção 3 X Seleção 2\n",
            "Partida 4:\tSeleção 4 X Seleção 1\n"
          ]
        }
      ]
    },
    {
      "cell_type": "markdown",
      "source": [
        "O código a seguir apresenta um laço infinito, pois a expressão lógica na estrutura `while` é sempre verdadeira (`True`):"
      ],
      "metadata": {
        "id": "4oudUsAZdjvV"
      }
    },
    {
      "cell_type": "code",
      "source": [
        "#Exemplo 15 - Gera Cartões (loop infinito)\n",
        "cartoes = 0\n",
        "total = 0\n",
        "while True:\n",
        "  cartoes = input(\"Digite a quantidade de cartões amarelos:\")\n",
        "  total = total + int(cartoes)\n",
        "  resp = input('Deseja continuar [S/N]: ').upper()[0]\n",
        "  if resp == \"N\":\n",
        "    break\n",
        "print(\"Total de cartões amarelos:\", total)"
      ],
      "metadata": {
        "id": "R6bzuSUj6Yeu",
        "outputId": "8ab5f8df-1d7f-44f5-f47b-a62e2301a514",
        "colab": {
          "base_uri": "https://localhost:8080/"
        }
      },
      "execution_count": null,
      "outputs": [
        {
          "output_type": "stream",
          "name": "stdout",
          "text": [
            "Digite a quantidade de cartões amarelos:4\n",
            "Deseja continuar [S/N]: sim\n",
            "Digite a quantidade de cartões amarelos:5\n",
            "Deseja continuar [S/N]: talvez\n",
            "Digite a quantidade de cartões amarelos:1\n",
            "Deseja continuar [S/N]: n\n",
            "Total de cartões amarelos: 10\n"
          ]
        }
      ]
    },
    {
      "cell_type": "markdown",
      "source": [
        "Se executarmos o código acima, ocorrerá um laço infinito, pois a expressão lógica na estrutura `while` é sempre verdadeira (`True`).\n",
        "Isso pode causar problemas, como a necessidade de interromper manualmente o programa.\n",
        "\n",
        "No entanto, podemos utilizar esse padrão para construir laços úteis, desde que adicionemos cuidadosamente um código no corpo do laço que, utilizando a instrução `break`, saia explicitamente quando a condição de saída desejada for atingida.\n",
        "\n",
        "Por exemplo, se quisermos receber entradas do usuário até que ele digite -1, podemos escrever o seguinte código:"
      ],
      "metadata": {
        "id": "ghYCqbtZeD5b"
      }
    },
    {
      "cell_type": "code",
      "source": [
        "#Exemplo 16 - Gera Cartões (loop infinito)\n",
        "cartoes = 0\n",
        "total = 0\n",
        "while True:\n",
        "  cartoes = input(\"Digite a quantidade de cartões amarelos:\")\n",
        "  if int(cartoes) == -1: break\n",
        "  total = total + int(cartoes)\n",
        "\n",
        "print(\"Total de cartões amarelos:\", total)"
      ],
      "metadata": {
        "id": "VOL_Dh1ceL8I",
        "outputId": "9cb51b2b-8054-4a21-e9ca-d380f4a24ea6",
        "colab": {
          "base_uri": "https://localhost:8080/"
        }
      },
      "execution_count": null,
      "outputs": [
        {
          "output_type": "stream",
          "name": "stdout",
          "text": [
            "Digite a quantidade de cartões amarelos:6\n",
            "Digite a quantidade de cartões amarelos:2\n",
            "Digite a quantidade de cartões amarelos:-1\n",
            "Total de cartões amarelos: 8\n"
          ]
        }
      ]
    },
    {
      "cell_type": "markdown",
      "source": [
        "<h1> Declaração 'for' </h1>\n",
        "\n",
        "Quando precisamos iterar sobre um conjunto de coisas, como uma lista de palavras, linhas em um arquivo ou uma lista de números, utilizamos um laço definido chamado `for`.\n",
        "\n",
        "Esse tipo de laço percorre um conjunto conhecido de itens por um número determinado de iterações.\n",
        "\n",
        "Em contraste, a declaração `while` é utilizada para criar um laço indefinido que continua iterando até que uma condição se torne falsa. A estrutura sintática do laço `for` é similar à do `while`, com uma declaração inicial seguida por um bloco de repetição.\n",
        "\n",
        "O exemplo a seguir gera a mesma listagem de 11 jogadores mas utilizando a estrutura de repetição `for` e a função `range`:"
      ],
      "metadata": {
        "id": "IDpPxp4ObvF-"
      }
    },
    {
      "cell_type": "code",
      "source": [
        "#Exemplo 17 - Gera Jogadores (for)\n",
        "\n",
        "for i in range(1,12):\n",
        "  print(\"Jogador\", i)"
      ],
      "metadata": {
        "id": "PAmSqZDf26hX",
        "outputId": "ec1fa99a-c970-4b50-ce9a-a861c4e2a5b8",
        "colab": {
          "base_uri": "https://localhost:8080/"
        }
      },
      "execution_count": null,
      "outputs": [
        {
          "output_type": "stream",
          "name": "stdout",
          "text": [
            "Jogador 1\n",
            "Jogador 2\n",
            "Jogador 3\n",
            "Jogador 4\n",
            "Jogador 5\n",
            "Jogador 6\n",
            "Jogador 7\n",
            "Jogador 8\n",
            "Jogador 9\n",
            "Jogador 10\n",
            "Jogador 11\n"
          ]
        }
      ]
    },
    {
      "cell_type": "markdown",
      "source": [
        "# 1.4 Funções"
      ],
      "metadata": {
        "id": "l9JIPBTBxANX"
      }
    },
    {
      "cell_type": "markdown",
      "source": [
        "Em programação, uma **função** é um conjunto de instruções que executa uma tarefa específica.\n",
        "\n",
        "Ao definir uma função, você atribui um **nome** a ela e especifica a sequência de instruções a serem executadas. Mais tarde, você pode chamar essa função pelo seu nome. Um exemplo de chamada de função é o seguinte:"
      ],
      "metadata": {
        "id": "pSZsVdW1yo9E"
      }
    },
    {
      "cell_type": "code",
      "source": [
        "type(16)"
      ],
      "metadata": {
        "id": "NQrrU4wxy11U"
      },
      "execution_count": null,
      "outputs": []
    },
    {
      "cell_type": "markdown",
      "source": [
        "Nesse exemplo, `type` é o nome da função e 16 é o argumento da função.\n",
        "\n",
        "O argumento é o valor ou variável que é fornecido à função como entrada. O resultado obtido para a função `type` é o retorno da função, que nesse caso é o texto 'int'.\n",
        "\n",
        "É comum dizer que uma função **recebe** um argumento e **retorna** um resultado. O resultado é chamado de **retorno** da função."
      ],
      "metadata": {
        "id": "igNE8diOy_LC"
      }
    },
    {
      "cell_type": "markdown",
      "source": [
        "Os criadores do Python desenvolveram um conjunto de funções para resolver problemas comuns e as incorporaram à linguagem para que possamos utilizá-las.\n",
        "\n",
        "Essas funções pré-definidas são conhecidas como funções *built-in*.\n",
        "\n",
        "Muitas delas já foram vistas no exemplos anteriores, tais como:\n",
        "\n",
        "*   **print()**: Imprime uma mensagem ou valor no console.\n",
        "*   **input()**: Lê uma entrada do usuário pelo console.\n",
        "*   **int()**, **str()**: Convertem um valor para os tipos inteiros e string,     respectivamente.\n",
        "*   **type()**: Retorna o tipo de um objeto."
      ],
      "metadata": {
        "id": "ypkaBIJ7zSoQ"
      }
    },
    {
      "cell_type": "markdown",
      "source": [
        "No Python, além das funções *built-in*, também podemos adicionar nossas próprias funções.\n",
        "\n",
        "Ao definir uma função, atribuímos um nome a ela e especificamos a sequência de comandos a serem executados quando a função é chamada.\n",
        "\n",
        "Uma vez que definimos uma função, podemos reutilizá-la várias vezes ao longo do programa. Isso nos permite agrupar um conjunto de comandos relacionados em uma única unidade, facilitando a manutenção e a reutilização do código."
      ],
      "metadata": {
        "id": "w78VZKrV1GaW"
      }
    },
    {
      "cell_type": "markdown",
      "source": [
        "A seguir é apresentado um exemplo de uma função que calcula a média com base em duas variáveis de entrada:"
      ],
      "metadata": {
        "id": "XM0YpZLQ1Wu0"
      }
    },
    {
      "cell_type": "code",
      "source": [
        "#Exemplo 18 - Função Calcula Média\n",
        "def calcularMedia(valor1, valor2):\n",
        "    return (valor1 + valor2)/2\n",
        "\n",
        "v1 = 10.0\n",
        "v2 = 20.0\n",
        "media = calcularMedia(v1,v2)\n",
        "print(\"Média:\", media)"
      ],
      "metadata": {
        "id": "beaSelPf1WCu"
      },
      "execution_count": null,
      "outputs": []
    },
    {
      "cell_type": "markdown",
      "source": [
        "A palavra-chave `def` indica a definição de uma função. Neste exemplo, o nome da função é `calcularMedia`.\n",
        "\n",
        "As regras para nomes de funções são semelhantes às regras para nomes de variáveis. É importante evitar usar uma palavra-chave como nome de função e evitar nomes duplicados entre variáveis e funções.\n",
        "\n",
        "Dentro da função, os argumentos são atribuídos a variáveis chamadas parâmetros. Nesse caso, a função atribui os argumentos aos parâmetros nomeados `valor1` e `valor2`. Quando a função é chamada, ela calcula e retorna a média com base nos valores passados como argumentos, que são armazenados nos parâmetros `valor1` e `valor2`.\n",
        "\n",
        "Para retornar um resultado da função, usamos a instrução `return` seguido do valor que desejamos retornar."
      ],
      "metadata": {
        "id": "jJK__5B32-zM"
      }
    },
    {
      "cell_type": "markdown",
      "source": [
        "A figura a seguir apresenta uma outras forma de representação gráfica da função `calcularMedia` por meio de um bloco funcional:"
      ],
      "metadata": {
        "id": "HnUDIrca3QkK"
      }
    },
    {
      "cell_type": "markdown",
      "source": [
        "![image.png](data:image/png;base64,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)![image.png](\n",
        ")"
      ],
      "metadata": {
        "id": "T_LVZYwT3adw"
      }
    },
    {
      "cell_type": "markdown",
      "source": [
        "# 1.5 Exceções"
      ],
      "metadata": {
        "id": "Dc6EFj8W7R1q"
      }
    },
    {
      "cell_type": "markdown",
      "source": [
        "Nos exemplos anteriores, utilizamos as funções `input()` e `int()` para ler e converter um número inteiro inserido pelo usuário. No entanto, essa abordagem pode gerar problemas quando o usuário insere um valor que não pode ser convertido para inteiro, resultando em um erro durante a execução do programa.\n",
        "\n",
        "\n",
        "Para lidar com esses tipos de erros esperados e inesperados, o Python possui uma estrutura de execução condicional chamada `try/except`. A ideia por trás do `try` e `except` é permitir que você execute um conjunto de instruções sabendo que pode haver um problema, e adicionar comandos adicionais a serem executados caso ocorra um erro. Esses comandos adicionais, definidos no bloco `except`, serão acionados somente se um erro ocorrer, caso contrário, serão ignorados.\n",
        "\n",
        "Dessa forma, ao utilizar `try/except`, podemos capturar e tratar os erros de forma adequada, evitando que o programa seja interrompido abruptamente. Isso proporciona uma maior robustez e controle sobre a execução do código, permitindo lidar com situações inesperadas e garantindo uma melhor experiência para o usuário."
      ],
      "metadata": {
        "id": "zp9va3RN9sjR"
      }
    },
    {
      "cell_type": "markdown",
      "source": [
        "O exemplo a seguir reescreve o exemplo 2 utilizando as instruções `try/except` para realizar o tratamento de erro caso o usuário insira um valor inválido na etapa de entrada de dados:"
      ],
      "metadata": {
        "id": "76nJPoBd85BC"
      }
    },
    {
      "cell_type": "code",
      "source": [
        "# Exemplo 19 - Saldo de Gols (versão 3)\n",
        "# Perceba que diferentemente do exemplo anterior, este exemplo realiza as seguintes operações:\n",
        "\n",
        "# 1) Obtêm do usuário a quantidade de golsMarcados e golsSofridos e converte para os valores para inteiros\n",
        "# 2) Calcula o saldo de Gols\n",
        "# 3) Exibe o resultado na tela (convertendo o saldo para String)\n",
        "# 4) Exibe o tipo de dado da variável saida\n",
        "\n",
        "golsMarcados = input(\"Digite a quantidade de gols marcados:\") #Obtem do usuário a quantidade de gols marcados\n",
        "golsSofridos = input(\"Digite a quantidade de gols sofridos:\") #Obtem do usuário a quantidade de gols sofridos\n",
        "\n",
        "try:\n",
        "  golsMarcados = int(golsMarcados)\n",
        "  golsSofridos = int(golsSofridos)\n",
        "  saldo = golsMarcados - golsSofridos\n",
        "  saida = str(saldo)\n",
        "  print(\"Saldo de Gols:\" + saida)\n",
        "except:\n",
        "  print(\"Digite um valor numérico.\")"
      ],
      "metadata": {
        "id": "Dv_xd_t67t4e",
        "outputId": "9dcdda57-5340-4c73-926f-3169ecc25c39",
        "colab": {
          "base_uri": "https://localhost:8080/"
        }
      },
      "execution_count": null,
      "outputs": [
        {
          "output_type": "stream",
          "name": "stdout",
          "text": [
            "Digite a quantidade de gols marcados:seis\n",
            "Digite a quantidade de gols sofridos:tres\n",
            "Digite um valor numérico.\n"
          ]
        }
      ]
    },
    {
      "cell_type": "markdown",
      "source": [
        "Em Python, ao utilizar a estrutura `try/except`, o programa executa inicialmente o bloco de instruções dentro do `try`. Se tudo ocorrer sem problemas, o programa pula o bloco `except` e continua sua execução normalmente. No entanto, se ocorrer uma exceção durante a execução do bloco `try`, o Python sai desse bloco e executa os comandos no bloco `except`.\n",
        "\n",
        "O processo de lidar com uma exceção usando `try` é conhecido como captura de exceção. No exemplo dado, a cláusula `except` exibe uma mensagem de erro. Normalmente, capturar uma exceção dá a oportunidade de resolver o problema, tentar novamente ou encerrar o programa de forma adequada e controlada."
      ],
      "metadata": {
        "id": "11ox5JHt9fUB"
      }
    },
    {
      "cell_type": "markdown",
      "source": [
        "# 1.6 Exercícios de Fixação"
      ],
      "metadata": {
        "id": "LtbwaNNU-FeR"
      }
    },
    {
      "cell_type": "markdown",
      "source": [
        "<h1> Exercício 1 - Pagamento Semanal </h1>\n",
        "\n",
        "Suponha que você foi incumbido de desenvolver a lógica para o pagamento semanal dos professores.\n",
        "\n",
        "O pagamento de um professor é igual ao salário por hora multiplicado pelo número total de horas regulares mais o pagamento de horas extras. O pagamento de horas extras é igual ao total de horas extras multiplicado por 2 vezes o salário por hora. Escreva um programa que receba como entradas o salário por hora, o total de horas regulares e o total de horas extras.\n",
        "\n",
        "O programa deverá exibir como saída o pagamento semanal total do professor.\n",
        "\n"
      ],
      "metadata": {
        "id": "sMZyhszlMhcK"
      }
    },
    {
      "cell_type": "code",
      "source": [
        "# ********** Escreva seu código aqui **********\n",
        "salario_hora = total_reg = total_extra = pgto = 0\n",
        "\n",
        "salario_hora = int(input('Informe o salário por hora: '))\n",
        "horas_reg = int(input('Informe o total de horas regulares: '))\n",
        "horas_extra = int(input('Informa o total de horas extras'))\n",
        "pgto = (salario_hora * horas_reg) + ((salario_hora * 2) + horas_extra)\n",
        "print(f'Seu salário semanal incluindo horas extras é: R$ {pgto:.2f}')\n",
        "\n",
        "\n",
        "\n"
      ],
      "metadata": {
        "id": "sPDtdp7ROcN_"
      },
      "execution_count": null,
      "outputs": []
    },
    {
      "cell_type": "markdown",
      "source": [
        "<h1> Exercício 2 - Consumo de Combustível </h1>\n",
        "\n",
        "Desenvolva um programa que leia o percurso em km, o tipo de carro e informe o consumo estimado de combustível (em litros). Sabe-se que um carro tipo A faz 12 km com um litro de gasolina, um tipo B faz 9 km/l e o tipo C, 8km/l.\n",
        "\n",
        "Obs.: Aceitar o tipo em letras maiúsculas ou minúsculas (ex.: “C” ou “c”)\n"
      ],
      "metadata": {
        "id": "FW9VrI1IQEBX"
      }
    },
    {
      "cell_type": "code",
      "source": [
        "# ********** Escreva seu código aqui **********\n",
        "consumo =0\n",
        "carro = str(input('Informe seu tipo de carro [Digite A, B ou C]: ')).upper()[0]\n",
        "dist = int(input('Informe a distância percorrida [Km]:'))\n",
        "if carro == 'A':\n",
        "  consumo = dist / 12\n",
        "elif carro == 'B':\n",
        "  consumo = dist / 9\n",
        "else:\n",
        "  consumo = dist / 8\n",
        "print(f'O consumo estimado do carro do tipo {carro} foi de {consumo:.2f} Litros')\n",
        "\n",
        "\n",
        "\n",
        "\n",
        "\n"
      ],
      "metadata": {
        "id": "YAYIwJKXQj0B",
        "colab": {
          "base_uri": "https://localhost:8080/"
        },
        "outputId": "67ab2555-6737-4538-b352-91ea61f2044c"
      },
      "execution_count": null,
      "outputs": [
        {
          "output_type": "stream",
          "name": "stdout",
          "text": [
            "Informe seu tipo de carro [Digite A, B ou C]: a\n",
            "Informe a distância percorrida [Km]:200\n",
            "O consumo estimado do carro do tipo A foi de 16.67 Litros\n"
          ]
        }
      ]
    },
    {
      "cell_type": "markdown",
      "source": [
        "<h1> Exercício 3 - Limite Superior </h1>\n",
        "\n",
        "Desenvolva um programa que leia um número que será o limite superior de um intervalo e imprimir todos os números ímpares menores do que esse número. Além dos números, o programa deve mostrar ao final da execução a soma dos número ímpares.\n",
        "\n",
        "**Exemplo**:\n",
        "\n",
        "Digite o limite Superior: 15\n",
        "\n",
        "Saída: 1 3 5 7 9 11 13\n"
      ],
      "metadata": {
        "id": "HHrT79rZRMN9"
      }
    },
    {
      "cell_type": "code",
      "source": [
        "# ********** Escreva seu código aqui **********\n",
        "soma = 0\n",
        "for c in range (1,15):\n",
        "  if c % 2 == 1:\n",
        "    print(c)\n",
        "    soma = soma + c\n",
        "print()\n",
        "print(f'A soma dos números ímpares é {soma}')\n",
        "\n",
        "\n",
        "\n",
        "\n"
      ],
      "metadata": {
        "id": "gZ-XT12zRkt8",
        "outputId": "550c5352-8ad6-4888-8fc4-5da15bce93c5",
        "colab": {
          "base_uri": "https://localhost:8080/"
        }
      },
      "execution_count": null,
      "outputs": [
        {
          "output_type": "stream",
          "name": "stdout",
          "text": [
            "1\n",
            "3\n",
            "5\n",
            "7\n",
            "9\n",
            "11\n",
            "13\n",
            "\n",
            "A soma dos números ímpares é 49\n"
          ]
        }
      ]
    },
    {
      "cell_type": "markdown",
      "source": [
        "<h1> Exercício 4 - Conversão de Celsius-Fahrenheit </h1>\n",
        "\n",
        "Criar um algoritmo que imprima a tabela de conversão de graus Celsius-Fahrenheit para um intervalo definido pelo usuário. O algoritmo deve solicitar ao usuário o limite superior, inferior e o intervalo de decremento.\n",
        "\n",
        "Fórmula de Conversão: C = 5(F-32)/9.\n",
        "\n",
        "**Exemplo**:\n",
        "\n",
        "Digite o Limite Superior: 68\n",
        "\n",
        "Digite o Limite Inferior: 10\n",
        "\n",
        "Digite o Decremento: 18\n",
        "\n",
        "**Saída**:\n",
        "\n",
        "68 Fahrenheit = 20 Celsius\n",
        "\n",
        "50 Fahrenheit = 10 Celsius\n",
        "\n",
        "32 Fahrenheit =  0 Celsius\n",
        "\n",
        "14 Fahrenheit =  -10 Celsius"
      ],
      "metadata": {
        "id": "UK2m_G0uRteD"
      }
    },
    {
      "cell_type": "code",
      "source": [
        "# ********** Escreva seu código aqui **********\n",
        "lim_sup = int(input('Informe o limite supwrior: '))\n",
        "lim_inf = int(input('Informe o limite inferior: '))\n",
        "passo = int(input('Informe decremento: '))\n",
        "cent = 0\n",
        "passo = passo * (-1)\n",
        "for i in range(lim_sup, lim_inf, passo):\n",
        "  cent = (i -32) * 5/9\n",
        "  print(f'{i} Fahrenheit = {cent:.2f} Celsius')\n",
        "\n",
        "\n",
        "\n",
        "\n"
      ],
      "metadata": {
        "id": "0EFxSm88ShFf",
        "colab": {
          "base_uri": "https://localhost:8080/"
        },
        "outputId": "c5b05dd0-f156-469a-d87e-3efbbc3ea3df"
      },
      "execution_count": null,
      "outputs": [
        {
          "output_type": "stream",
          "name": "stdout",
          "text": [
            "Informe o limite supwrior: 50\n",
            "Informe o limite inferior: 0\n",
            "Informe decremento: 2\n",
            "50 Fahrenheit = 10.00 Celsius\n",
            "48 Fahrenheit = 8.89 Celsius\n",
            "46 Fahrenheit = 7.78 Celsius\n",
            "44 Fahrenheit = 6.67 Celsius\n",
            "42 Fahrenheit = 5.56 Celsius\n",
            "40 Fahrenheit = 4.44 Celsius\n",
            "38 Fahrenheit = 3.33 Celsius\n",
            "36 Fahrenheit = 2.22 Celsius\n",
            "34 Fahrenheit = 1.11 Celsius\n",
            "32 Fahrenheit = 0.00 Celsius\n",
            "30 Fahrenheit = -1.11 Celsius\n",
            "28 Fahrenheit = -2.22 Celsius\n",
            "26 Fahrenheit = -3.33 Celsius\n",
            "24 Fahrenheit = -4.44 Celsius\n",
            "22 Fahrenheit = -5.56 Celsius\n",
            "20 Fahrenheit = -6.67 Celsius\n",
            "18 Fahrenheit = -7.78 Celsius\n",
            "16 Fahrenheit = -8.89 Celsius\n",
            "14 Fahrenheit = -10.00 Celsius\n",
            "12 Fahrenheit = -11.11 Celsius\n",
            "10 Fahrenheit = -12.22 Celsius\n",
            "8 Fahrenheit = -13.33 Celsius\n",
            "6 Fahrenheit = -14.44 Celsius\n",
            "4 Fahrenheit = -15.56 Celsius\n",
            "2 Fahrenheit = -16.67 Celsius\n"
          ]
        }
      ]
    },
    {
      "cell_type": "markdown",
      "source": [
        "<h1> Problema 4 - Números Primos </h1>\n",
        "\n",
        "Desenvolva uma função que tem o objetivo de verificar se um número recebido é um número primo.  A função deve retornar valores booleanos, isto é, retornar True (caso seja primo) ou False (caso não seja primo).\n",
        "\n",
        "Obs.: Os Números Primos são números naturais maiores do que 1 que possuem somente dois divisores, ou seja, são divisíveis por 1 e por ele mesmo.  "
      ],
      "metadata": {
        "id": "gGZpy7OTSysy"
      }
    },
    {
      "cell_type": "code",
      "source": [
        "# ********** Escreva seu código aqui **********\n",
        "tot = 0\n",
        "num = int(input('Digite um número: '))\n",
        "for c in range(1, num + 1):\n",
        "  if num % c == 0:\n",
        "    tot = tot + 1\n",
        "print (tot)\n",
        "if tot == 2:\n",
        "  print(num == tot)\n",
        "else:\n",
        "  print(num == tot)"
      ],
      "metadata": {
        "id": "51A6GMLuTF_G",
        "colab": {
          "base_uri": "https://localhost:8080/"
        },
        "outputId": "f4c011f6-1996-4f6d-c9f0-87050df6e964"
      },
      "execution_count": null,
      "outputs": [
        {
          "output_type": "stream",
          "name": "stdout",
          "text": [
            "Digite um número: 7\n",
            "2\n",
            "False\n"
          ]
        }
      ]
    },
    {
      "cell_type": "markdown",
      "source": [
        "Problema 01"
      ],
      "metadata": {
        "id": "JBgp66JWNFLO"
      }
    },
    {
      "cell_type": "code",
      "source": [
        "valor = float(input('Por favor o valor da conta (R$): '))\n",
        "taxa = float(input('Informe a taxa de serviço: '))\n",
        "taxa_serv = valor * (taxa / 100)\n",
        "total_conta = taxa_serv + valor\n",
        "print()\n",
        "print(f'O valor total da conta foi de R${total_conta:.2f}')\n",
        "print(f'Taxa de serviço: R${taxa_serv:.2f}')"
      ],
      "metadata": {
        "id": "BiDCYIvvMU0M"
      },
      "execution_count": null,
      "outputs": []
    },
    {
      "cell_type": "markdown",
      "source": [
        "Problema 02"
      ],
      "metadata": {
        "id": "BHsllF9GRlES"
      }
    },
    {
      "cell_type": "code",
      "source": [
        "print('Bem vindo a calculadora da sua conta de energia:')\n",
        "tipo_instalacao = input(\"Digite o tipo de instalação (R - Residências, I - Indústrias, C - Comércio): \")\n",
        "consumo = float(input(\"Digite a quantidade de energia consumida (em kWh): \"))\n",
        "preco=0\n",
        "\n",
        " # Para residências\n",
        "if tipo_instalacao.lower() == 'r':\n",
        "\n",
        "    if consumo <= 500:\n",
        "        taxa = 0.40\n",
        "        imposto = 0.1\n",
        "        preco = consumo * taxa * imposto\n",
        "    else:\n",
        "        taxa = 0.65\n",
        "        imposto =  0.12\n",
        "        preco = consumo * taxa * imposto\n",
        "\n",
        "# Para comércio\n",
        "elif tipo_instalacao.lower() == 'c':\n",
        "  if consumo <= 1000:\n",
        "        taxa = 0.55\n",
        "        imposto =  0.15\n",
        "        preco = consumo * taxa * imposto\n",
        "  else:\n",
        "        taxa =0.6\n",
        "        imposto =  0.16\n",
        "        preco = consumo * taxa * imposto\n",
        "\n",
        "# Para indústria\n",
        "elif tipo_instalacao.lower() == 'i':\n",
        "  if consumo <= 5000:\n",
        "        taxa =0.55\n",
        "        imposto =  0.2\n",
        "        preco = consumo * taxa * imposto\n",
        "\n",
        "  else:\n",
        "    taxa = 0.6\n",
        "    imposto = 0.22\n",
        "    preco = consumo * taxa * imposto\n",
        "\n",
        "print('Portanto, para o seu caso: A tarifa por kWh (sem impostos) é de')\n",
        "print(f'R$ {taxa} reais, o imposto é de {imposto*100}%, e sua conta de energia (com impostos) será de R$ {preco} reais.')"
      ],
      "metadata": {
        "id": "dtNybAXRRnnh"
      },
      "execution_count": null,
      "outputs": []
    }
  ]
}